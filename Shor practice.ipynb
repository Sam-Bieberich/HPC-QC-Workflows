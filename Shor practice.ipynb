{
 "cells": [
  {
   "cell_type": "code",
   "execution_count": null,
   "id": "be5e7fed",
   "metadata": {},
   "outputs": [],
   "source": [
    "from qiskit.algorithms import Shor\n",
    "from qiskit import Aer\n",
    "from qiskit.utils import QuantumInstance\n",
    "\n",
    "qasm_qinstance = QuantumInstance(Aer.get_backend('qasm_simulator'))\n",
    "\n",
    "shor = Shor(quantum_instance=qasm_qinstance)\n",
    "\n",
    "result = shor.factor(N=35, a=6)\n",
    "print('Factors:', result.factors)"
   ]
  },
  {
   "cell_type": "code",
   "execution_count": null,
   "id": "5f162b3f",
   "metadata": {},
   "outputs": [],
   "source": []
  }
 ],
 "metadata": {
  "kernelspec": {
   "display_name": "Qiskit (stable)",
   "language": "python",
   "name": "qiskit-stable"
  },
  "language_info": {
   "codemirror_mode": {
    "name": "ipython",
    "version": 3
   },
   "file_extension": ".py",
   "mimetype": "text/x-python",
   "name": "python",
   "nbconvert_exporter": "python",
   "pygments_lexer": "ipython3",
   "version": "3.9.12"
  }
 },
 "nbformat": 4,
 "nbformat_minor": 5
}
