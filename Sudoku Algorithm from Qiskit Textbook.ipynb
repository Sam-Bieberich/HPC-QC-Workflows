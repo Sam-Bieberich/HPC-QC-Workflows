{
 "cells": [
  {
   "cell_type": "code",
   "execution_count": 1,
   "id": "3661bc96",
   "metadata": {},
   "outputs": [
    {
     "data": {
      "text/plain": [
       "<AccountProvider for IBMQ(hub='ibm-q', group='open', project='main')>"
      ]
     },
     "execution_count": 1,
     "metadata": {},
     "output_type": "execute_result"
    }
   ],
   "source": [
    "from qiskit import *\n",
    "import numpy as np\n",
    "from qiskit.visualization import plot_histogram\n",
    "#IBMQ.load_account()"
   ]
  },
  {
   "cell_type": "code",
   "execution_count": 13,
   "id": "14724a38",
   "metadata": {},
   "outputs": [],
   "source": [
    "#https://qiskit.org/textbook/ch-algorithms/grover.html#5.-Solving-Sudoku-using-Grover's-Algorithm-\n",
    "def XOR(qc, a, b, output):\n",
    "    qc.cx(a, output)\n",
    "    qc.cx(b, output)\n",
    "#\n",
    "def diffuser(qubits):\n",
    "    qc = QuantumCircuit(qubits)\n",
    "    # Superposition\n",
    "    for qubit in range(qubits):\n",
    "        qc.h(qubit)\n",
    "    # Apply transformation |00..0> -> |11..1> (X-gates)\n",
    "    for qubit in range(qubits):\n",
    "        qc.x(qubit)\n",
    "    # Do multi-controlled-Z gate\n",
    "    qc.h(qubits-1)\n",
    "    qc.mct(list(range(qubits-1)), qubits-1)  # multi-controlled-toffoli\n",
    "    qc.h(qubits-1)\n",
    "    # Apply transformation |11..1> -> |00..0>\n",
    "    for qubit in range(qubits):\n",
    "        qc.x(qubit)\n",
    "    # Apply transformation |00..0> -> |s>\n",
    "    for qubit in range(qubits):\n",
    "        qc.h(qubit)\n",
    "    # We will return the diffuser as a gate\n",
    "    Diffuser = qc.to_gate()\n",
    "    Diffuser.name = \"Diffuser\"\n",
    "    return Diffuser\n",
    "#\n",
    "def sudoku_oracle(qc, clause_list, clause_qubits):\n",
    "    # Compute clauses\n",
    "    i = 0\n",
    "    for clause in clause_list:\n",
    "        XOR(qc, clause[0], clause[1], clause_qubits[i])\n",
    "        i += 1\n",
    "\n",
    "    # Flip 'output' bit if all clauses are satisfied\n",
    "    qc.mct(clause_qubits, output_qubit)\n",
    "\n",
    "    # Uncompute clauses to reset clause-checking bits to 0\n",
    "    i = 0\n",
    "    for clause in clause_list:\n",
    "        XOR(qc, clause[0], clause[1], clause_qubits[i])\n",
    "        i += 1\n"
   ]
  },
  {
   "cell_type": "code",
   "execution_count": 14,
   "id": "8ec1fba1",
   "metadata": {},
   "outputs": [
    {
     "data": {
      "text/html": [
       "<pre style=\"word-wrap: normal;white-space: pre;background: #fff0;line-height: 1.1;font-family: &quot;Courier New&quot;,Courier,monospace\">                      ┌───┐               ░                                                                                       ░ ┌───────────┐                                                                                      ░ ┌───────────┐┌─┐         \n",
       " q118_0: ─────────────┤ H ├───────────────░───■─────────■──────────────────────────────────■─────────■────────────────────────────░─┤0          ├──■─────────■──────────────────────────────────■─────────■────────────────────────────░─┤0          ├┤M├─────────\n",
       "                      ├───┤               ░   │         │                                  │         │                            ░ │           │  │         │                                  │         │                            ░ │           │└╥┘┌─┐      \n",
       " q118_1: ─────────────┤ H ├───────────────░───┼────■────┼─────────■────────────────────────┼────■────┼─────────■──────────────────░─┤1          ├──┼────■────┼─────────■────────────────────────┼────■────┼─────────■──────────────────░─┤1          ├─╫─┤M├──────\n",
       "                      ├───┤               ░   │    │    │         │                        │    │    │         │                  ░ │  Diffuser │  │    │    │         │                        │    │    │         │                  ░ │  Diffuser │ ║ └╥┘┌─┐   \n",
       " q118_2: ─────────────┤ H ├───────────────░───┼────┼────┼────■────┼─────────■──────────────┼────┼────┼────■────┼─────────■────────░─┤2          ├──┼────┼────┼────■────┼─────────■──────────────┼────┼────┼────■────┼─────────■────────░─┤2          ├─╫──╫─┤M├───\n",
       "                      ├───┤               ░   │    │    │    │    │         │              │    │    │    │    │         │        ░ │           │  │    │    │    │    │         │              │    │    │    │    │         │        ░ │           │ ║  ║ └╥┘┌─┐\n",
       " q118_3: ─────────────┤ H ├───────────────░───┼────┼────┼────┼────┼────■────┼────■─────────┼────┼────┼────┼────┼────■────┼────■───░─┤3          ├──┼────┼────┼────┼────┼────■────┼────■─────────┼────┼────┼────┼────┼────■────┼────■───░─┤3          ├─╫──╫──╫─┤M├\n",
       "                      └───┘               ░ ┌─┴─┐┌─┴─┐  │    │    │    │    │    │       ┌─┴─┐┌─┴─┐  │    │    │    │    │    │   ░ └───────────┘┌─┴─┐┌─┴─┐  │    │    │    │    │    │       ┌─┴─┐┌─┴─┐  │    │    │    │    │    │   ░ └───────────┘ ║  ║  ║ └╥┘\n",
       " q119_0: ─────────────────────────────────░─┤ X ├┤ X ├──┼────┼────┼────┼────┼────┼────■──┤ X ├┤ X ├──┼────┼────┼────┼────┼────┼───░──────────────┤ X ├┤ X ├──┼────┼────┼────┼────┼────┼────■──┤ X ├┤ X ├──┼────┼────┼────┼────┼────┼───░───────────────╫──╫──╫──╫─\n",
       "                                          ░ └───┘└───┘┌─┴─┐┌─┴─┐  │    │    │    │    │  └───┘└───┘┌─┴─┐┌─┴─┐  │    │    │    │   ░              └───┘└───┘┌─┴─┐┌─┴─┐  │    │    │    │    │  └───┘└───┘┌─┴─┐┌─┴─┐  │    │    │    │   ░               ║  ║  ║  ║ \n",
       " q119_1: ─────────────────────────────────░───────────┤ X ├┤ X ├──┼────┼────┼────┼────■────────────┤ X ├┤ X ├──┼────┼────┼────┼───░────────────────────────┤ X ├┤ X ├──┼────┼────┼────┼────■────────────┤ X ├┤ X ├──┼────┼────┼────┼───░───────────────╫──╫──╫──╫─\n",
       "                                          ░           └───┘└───┘┌─┴─┐┌─┴─┐  │    │    │            └───┘└───┘┌─┴─┐┌─┴─┐  │    │   ░                        └───┘└───┘┌─┴─┐┌─┴─┐  │    │    │            └───┘└───┘┌─┴─┐┌─┴─┐  │    │   ░               ║  ║  ║  ║ \n",
       " q119_2: ─────────────────────────────────░─────────────────────┤ X ├┤ X ├──┼────┼────■──────────────────────┤ X ├┤ X ├──┼────┼───░──────────────────────────────────┤ X ├┤ X ├──┼────┼────■──────────────────────┤ X ├┤ X ├──┼────┼───░───────────────╫──╫──╫──╫─\n",
       "                                          ░                     └───┘└───┘┌─┴─┐┌─┴─┐  │                      └───┘└───┘┌─┴─┐┌─┴─┐ ░                                  └───┘└───┘┌─┴─┐┌─┴─┐  │                      └───┘└───┘┌─┴─┐┌─┴─┐ ░               ║  ║  ║  ║ \n",
       " q119_3: ─────────────────────────────────░───────────────────────────────┤ X ├┤ X ├──■────────────────────────────────┤ X ├┤ X ├─░────────────────────────────────────────────┤ X ├┤ X ├──■────────────────────────────────┤ X ├┤ X ├─░───────────────╫──╫──╫──╫─\n",
       "         ┌──────────────────────────────┐ ░                               └───┘└───┘┌─┴─┐                              └───┘└───┘ ░                                            └───┘└───┘┌─┴─┐                              └───┘└───┘ ░               ║  ║  ║  ║ \n",
       "    out: ┤ Initialize(0.70711,-0.70711) ├─░─────────────────────────────────────────┤ X ├─────────────────────────────────────────░──────────────────────────────────────────────────────┤ X ├─────────────────────────────────────────░───────────────╫──╫──╫──╫─\n",
       "         └──────────────────────────────┘ ░                                         └───┘                                         ░                                                      └───┘                                         ░               ║  ║  ║  ║ \n",
       "cbits: 4/══════════════════════════════════════════════════════════════════════════════════════════════════════════════════════════════════════════════════════════════════════════════════════════════════════════════════════════════════════════════╩══╩══╩══╩═\n",
       "                                                                                                                                                                                                                                                       0  1  2  3 </pre>"
      ],
      "text/plain": [
       "                      ┌───┐               ░                                                                                       ░ ┌───────────┐                                                                                      ░ ┌───────────┐┌─┐         \n",
       " q118_0: ─────────────┤ H ├───────────────░───■─────────■──────────────────────────────────■─────────■────────────────────────────░─┤0          ├──■─────────■──────────────────────────────────■─────────■────────────────────────────░─┤0          ├┤M├─────────\n",
       "                      ├───┤               ░   │         │                                  │         │                            ░ │           │  │         │                                  │         │                            ░ │           │└╥┘┌─┐      \n",
       " q118_1: ─────────────┤ H ├───────────────░───┼────■────┼─────────■────────────────────────┼────■────┼─────────■──────────────────░─┤1          ├──┼────■────┼─────────■────────────────────────┼────■────┼─────────■──────────────────░─┤1          ├─╫─┤M├──────\n",
       "                      ├───┤               ░   │    │    │         │                        │    │    │         │                  ░ │  Diffuser │  │    │    │         │                        │    │    │         │                  ░ │  Diffuser │ ║ └╥┘┌─┐   \n",
       " q118_2: ─────────────┤ H ├───────────────░───┼────┼────┼────■────┼─────────■──────────────┼────┼────┼────■────┼─────────■────────░─┤2          ├──┼────┼────┼────■────┼─────────■──────────────┼────┼────┼────■────┼─────────■────────░─┤2          ├─╫──╫─┤M├───\n",
       "                      ├───┤               ░   │    │    │    │    │         │              │    │    │    │    │         │        ░ │           │  │    │    │    │    │         │              │    │    │    │    │         │        ░ │           │ ║  ║ └╥┘┌─┐\n",
       " q118_3: ─────────────┤ H ├───────────────░───┼────┼────┼────┼────┼────■────┼────■─────────┼────┼────┼────┼────┼────■────┼────■───░─┤3          ├──┼────┼────┼────┼────┼────■────┼────■─────────┼────┼────┼────┼────┼────■────┼────■───░─┤3          ├─╫──╫──╫─┤M├\n",
       "                      └───┘               ░ ┌─┴─┐┌─┴─┐  │    │    │    │    │    │       ┌─┴─┐┌─┴─┐  │    │    │    │    │    │   ░ └───────────┘┌─┴─┐┌─┴─┐  │    │    │    │    │    │       ┌─┴─┐┌─┴─┐  │    │    │    │    │    │   ░ └───────────┘ ║  ║  ║ └╥┘\n",
       " q119_0: ─────────────────────────────────░─┤ X ├┤ X ├──┼────┼────┼────┼────┼────┼────■──┤ X ├┤ X ├──┼────┼────┼────┼────┼────┼───░──────────────┤ X ├┤ X ├──┼────┼────┼────┼────┼────┼────■──┤ X ├┤ X ├──┼────┼────┼────┼────┼────┼───░───────────────╫──╫──╫──╫─\n",
       "                                          ░ └───┘└───┘┌─┴─┐┌─┴─┐  │    │    │    │    │  └───┘└───┘┌─┴─┐┌─┴─┐  │    │    │    │   ░              └───┘└───┘┌─┴─┐┌─┴─┐  │    │    │    │    │  └───┘└───┘┌─┴─┐┌─┴─┐  │    │    │    │   ░               ║  ║  ║  ║ \n",
       " q119_1: ─────────────────────────────────░───────────┤ X ├┤ X ├──┼────┼────┼────┼────■────────────┤ X ├┤ X ├──┼────┼────┼────┼───░────────────────────────┤ X ├┤ X ├──┼────┼────┼────┼────■────────────┤ X ├┤ X ├──┼────┼────┼────┼───░───────────────╫──╫──╫──╫─\n",
       "                                          ░           └───┘└───┘┌─┴─┐┌─┴─┐  │    │    │            └───┘└───┘┌─┴─┐┌─┴─┐  │    │   ░                        └───┘└───┘┌─┴─┐┌─┴─┐  │    │    │            └───┘└───┘┌─┴─┐┌─┴─┐  │    │   ░               ║  ║  ║  ║ \n",
       " q119_2: ─────────────────────────────────░─────────────────────┤ X ├┤ X ├──┼────┼────■──────────────────────┤ X ├┤ X ├──┼────┼───░──────────────────────────────────┤ X ├┤ X ├──┼────┼────■──────────────────────┤ X ├┤ X ├──┼────┼───░───────────────╫──╫──╫──╫─\n",
       "                                          ░                     └───┘└───┘┌─┴─┐┌─┴─┐  │                      └───┘└───┘┌─┴─┐┌─┴─┐ ░                                  └───┘└───┘┌─┴─┐┌─┴─┐  │                      └───┘└───┘┌─┴─┐┌─┴─┐ ░               ║  ║  ║  ║ \n",
       " q119_3: ─────────────────────────────────░───────────────────────────────┤ X ├┤ X ├──■────────────────────────────────┤ X ├┤ X ├─░────────────────────────────────────────────┤ X ├┤ X ├──■────────────────────────────────┤ X ├┤ X ├─░───────────────╫──╫──╫──╫─\n",
       "         ┌──────────────────────────────┐ ░                               └───┘└───┘┌─┴─┐                              └───┘└───┘ ░                                            └───┘└───┘┌─┴─┐                              └───┘└───┘ ░               ║  ║  ║  ║ \n",
       "    out: ┤ Initialize(0.70711,-0.70711) ├─░─────────────────────────────────────────┤ X ├─────────────────────────────────────────░──────────────────────────────────────────────────────┤ X ├─────────────────────────────────────────░───────────────╫──╫──╫──╫─\n",
       "         └──────────────────────────────┘ ░                                         └───┘                                         ░                                                      └───┘                                         ░               ║  ║  ║  ║ \n",
       "cbits: 4/══════════════════════════════════════════════════════════════════════════════════════════════════════════════════════════════════════════════════════════════════════════════════════════════════════════════════════════════════════════════╩══╩══╩══╩═\n",
       "                                                                                                                                                                                                                                                       0  1  2  3 "
      ]
     },
     "execution_count": 14,
     "metadata": {},
     "output_type": "execute_result"
    }
   ],
   "source": [
    "#clause_list = [[0,1], [0,2], [1,3], [2,3]]\n",
    "\n",
    "var_qubits = QuantumRegister(4)\n",
    "clause_qubits = QuantumRegister(4)\n",
    "output_qubit = QuantumRegister(1, name='out')\n",
    "cbits = ClassicalRegister(4, name='cbits')\n",
    "qc = QuantumCircuit(var_qubits, clause_qubits, output_qubit, cbits)\n",
    "\n",
    "# Initialize 'out0' in state |->\n",
    "qc.initialize([1, -1]/np.sqrt(2), output_qubit)\n",
    "\n",
    "# Initialize qubits in state |s>\n",
    "qc.h(var_qubits)\n",
    "qc.barrier()  # for visual separation\n",
    "\n",
    "## First Iteration\n",
    "# Apply our oracle\n",
    "sudoku_oracle(qc, clause_list, clause_qubits)\n",
    "qc.barrier()  # for visual separation\n",
    "# Apply our diffuser\n",
    "qc.append(diffuser(4), [0,1,2,3])\n",
    "\n",
    "## Second Iteration\n",
    "sudoku_oracle(qc, clause_list, clause_qubits)\n",
    "qc.barrier()  # for visual separation\n",
    "# Apply our diffuser\n",
    "qc.append(diffuser(4), [0,1,2,3])\n",
    "\n",
    "# Measure the variable qubits\n",
    "qc.measure(var_qubits, cbits)\n",
    "\n",
    "qc.draw(fold=-1)"
   ]
  },
  {
   "cell_type": "code",
   "execution_count": 15,
   "id": "7c30e776",
   "metadata": {},
   "outputs": [
    {
     "data": {
      "image/png": "[encoded data removed]",
      "text/plain": [
       "<Figure size 504x360 with 1 Axes>"
      ]
     },
     "execution_count": 15,
     "metadata": {},
     "output_type": "execute_result"
    }
   ],
   "source": [
    "# Simulate and plot results\n",
    "aer_simulator = Aer.get_backend('aer_simulator')\n",
    "transpiled_qc = transpile(qc, aer_simulator)\n",
    "qobj = assemble(transpiled_qc)\n",
    "result = aer_simulator.run(qobj).result()\n",
    "plot_histogram(result.get_counts())"
   ]
  },
  {
   "cell_type": "code",
   "execution_count": null,
   "id": "3a321dbd",
   "metadata": {},
   "outputs": [],
   "source": []
  }
 ],
 "metadata": {
  "kernelspec": {
   "display_name": "Qiskit (stable)",
   "language": "python",
   "name": "qiskit-stable"
  },
  "language_info": {
   "codemirror_mode": {
    "name": "ipython",
    "version": 3
   },
   "file_extension": ".py",
   "mimetype": "text/x-python",
   "name": "python",
   "nbconvert_exporter": "python",
   "pygments_lexer": "ipython3",
   "version": "3.9.12"
  }
 },
 "nbformat": 4,
 "nbformat_minor": 5
}
