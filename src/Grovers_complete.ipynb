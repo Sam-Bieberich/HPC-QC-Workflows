{
 "cells": [
  {
   "cell_type": "code",
   "execution_count": null,
   "id": "545ec618",
   "metadata": {},
   "outputs": [],
   "source": [
    "#Imports\n",
    "from qiskit import *\n",
    "from qiskit.tools import job_monitor\n",
    "from qiskit.tools.jupyter import *\n",
    "from qiskit.visualization import *\n",
    "import qiskit.tools.jupyter\n",
    "from math import *\n",
    "from random import randint\n",
    "# Loading your IBM Quantum account(s)\n",
    "IBMQ.load_account()\n",
    "provider = IBMQ.get_provider(hub='ibm-q', group='open', project='main')\n",
    "provider.backends()\n",
    "backend = provider.get_backend('ibmq_belem')"
   ]
  },
  {
   "cell_type": "code",
   "execution_count": null,
   "id": "3fbb2748",
   "metadata": {},
   "outputs": [],
   "source": [
    "#Creating the cccz gate    \n",
    "qc = QuantumCircuit(4)\n",
    "qc.cp(pi/4, 0, 3)\n",
    "qc.cx(0,1)\n",
    "qc.cp(-pi/4, 1, 3)\n",
    "qc.cx(0,1)\n",
    "qc.cp(pi/4, 1, 3)\n",
    "qc.cx(1,2)\n",
    "qc.cp(-pi/4, 2, 3)\n",
    "qc.cx(0,2)\n",
    "qc.cp(pi/4, 2, 3)\n",
    "qc.cx(1,2)\n",
    "qc.cp(-pi/4, 2, 3)\n",
    "qc.cx(0,2)\n",
    "qc.cp(pi/4, 2, 3)\n",
    "cccz = qc.to_gate(label = \"cccz\")\n",
    "    \n",
    "#Create the Oracle\n",
    "def oracle(Quantum_Circuit, binary):\n",
    "    reversed_num = binary[::-1]\n",
    "    for i in range(4):\n",
    "        if reversed_num[i] == \"0\":\n",
    "            Quantum_Circuit.x(i)\n",
    "    Quantum_Circuit.append(cccz, [0,1,2,3])\n",
    "    for i in range(4):\n",
    "        if reversed_num[i] == \"0\":\n",
    "            Quantum_Circuit.x(i)\n",
    "    Quantum_Circuit.barrier([0,1,2,3])\n",
    "\n",
    "#Amplitude Amplification\n",
    "def amplification(Quantum_Circuit):\n",
    "    Quantum_Circuit.h([0,1,2,3]) \n",
    "    Quantum_Circuit.x([0,1,2,3]) \n",
    "    Quantum_Circuit.append(cccz, [0,1,2,3])\n",
    "    Quantum_Circuit.x([0,1,2,3]) \n",
    "    Quantum_Circuit.h([0,1,2,3]) \n",
    "\n",
    "#Job executuion function to manipulate how many times it is run\n",
    "def execute_job(number_of_times, num):\n",
    "    sum_true = 0\n",
    "    for i in range(number_of_times):\n",
    "        simulator = Aer.get_backend('qasm_simulator')\n",
    "        job = execute(trans_circuit, backend=simulator, shots=10)\n",
    "        counts = job.result().get_counts()\n",
    "        if counts.most_frequent() == num:\n",
    "            sum_true += 1\n",
    "    print(sum_true, \"out of\", number_of_times, 'times ,', num, 'was the most frequent return value')\n",
    "    "
   ]
  },
  {
   "cell_type": "code",
   "execution_count": null,
   "id": "cab1e90e",
   "metadata": {},
   "outputs": [],
   "source": [
    "#Ask for an input (will be done by HPC)\n",
    "print('Enter a value between 0 and 15: ')\n",
    "\n",
    "#Converting the base ten number to binary\n",
    "dec = randint(0,15)\n",
    "print(\"Number selected was:\", dec)\n",
    "num = bin(dec).replace(\"0b\", \"\")\n",
    "\n",
    "#Making there be four bits\n",
    "placeholder = num[::-1]\n",
    "while len(placeholder) < 4:\n",
    "    placeholder += \"0\"\n",
    "num = placeholder[::-1]\n",
    "print(\"In binary, that is: \", num)\n",
    "##########\n",
    "circuit = QuantumCircuit(4, 4)\n",
    "\n",
    "#Initialization\n",
    "circuit.h([0,1,2,3]) \n",
    "circuit.barrier([0,1,2,3])\n",
    "\n",
    "#Oracle and Amplification\n",
    "\n",
    "oracle(circuit, num)\n",
    "amplification(circuit)\n",
    "circuit.barrier([0,1,2,3])\n",
    "\n",
    "#Measures\n",
    "circuit.measure([0,1,2,3],[0,1,2,3])\n",
    "\n",
    "#Draw\n",
    "circuit.draw(output = 'mpl', justify = 'left', initial_state = True)\n",
    "\n",
    "#Transpile\n",
    "trans_circuit = transpile(circuit, basis_gates = ['u', 'cx'])\n",
    "#trans_circuit.draw(output = 'mpl')\n",
    "circuit.draw(output = 'mpl')"
   ]
  },
  {
   "cell_type": "code",
   "execution_count": null,
   "id": "f7c8e645",
   "metadata": {},
   "outputs": [],
   "source": [
    "#Getting the results with a real QC\n",
    "#\n",
    "job = backend.run(transpile(circuit, backend=backend), shots=1024)\n",
    "print(job.job_id())\n",
    "job_monitor(job)"
   ]
  },
  {
   "cell_type": "code",
   "execution_count": null,
   "id": "373d07cd",
   "metadata": {},
   "outputs": [],
   "source": [
    "#retrieve previously-run job\n",
    "job = backend.retrieve_job(job.job_id()) \n",
    "import matplotlib.pyplot as plt\n",
    "plt.style.use('dark_background')\n",
    "plot_histogram(job.result().get_counts())"
   ]
  },
  {
   "cell_type": "code",
   "execution_count": 4,
   "id": "caaca7bb",
   "metadata": {
    "scrolled": true
   },
   "outputs": [
    {
     "name": "stdout",
     "output_type": "stream",
     "text": [
      "{'1001': 6, '1011': 4, '0011': 6, '0001': 5, '1110': 5, '1000': 6, '1101': 6, '1111': 7, '0111': 8, '0101': 3, '1010': 8, '0110': 920, '1100': 1, '0100': 4, '0000': 9, '0010': 2}\n"
     ]
    },
    {
     "data": {
      "image/png": "[encoded data removed]",
      "text/plain": [
       "<Figure size 504x360 with 1 Axes>"
      ]
     },
     "execution_count": 4,
     "metadata": {},
     "output_type": "execute_result"
    }
   ],
   "source": [
    "#For running on a simulator\n",
    "from qiskit import BasicAer, Aer, execute\n",
    "from qiskit.visualization import plot_histogram\n",
    "\n",
    "simulator = Aer.get_backend('qasm_simulator')\n",
    "job = execute(circuit, backend=simulator, shots=1000)\n",
    "counts = job.result().get_counts()\n",
    "print(counts)\n",
    "plot_histogram(counts)"
   ]
  },
  {
   "cell_type": "code",
   "execution_count": 83,
   "id": "5c21af10",
   "metadata": {},
   "outputs": [
    {
     "name": "stdout",
     "output_type": "stream",
     "text": [
      "100 out of 100 times , 1111 was the most frequent return value\n"
     ]
    }
   ],
   "source": [
    "#Executes the job 100 times on the simulator\n",
    "execute_job(100, num)"
   ]
  },
  {
   "cell_type": "code",
   "execution_count": 3,
   "id": "43460fa3",
   "metadata": {},
   "outputs": [
    {
     "ename": "NameError",
     "evalue": "name 'circuit' is not defined",
     "output_type": "error",
     "traceback": [
      "\u001b[0;31m---------------------------------------------------------------------------\u001b[0m",
      "\u001b[0;31mNameError\u001b[0m                                 Traceback (most recent call last)",
      "Input \u001b[0;32mIn [3]\u001b[0m, in \u001b[0;36m<cell line: 3>\u001b[0;34m()\u001b[0m\n\u001b[1;32m      1\u001b[0m \u001b[38;5;28;01mimport\u001b[39;00m \u001b[38;5;21;01mnumpy\u001b[39;00m \u001b[38;5;28;01mas\u001b[39;00m \u001b[38;5;21;01mnp\u001b[39;00m\n\u001b[1;32m      2\u001b[0m backend \u001b[38;5;241m=\u001b[39m Aer\u001b[38;5;241m.\u001b[39mget_backend(\u001b[38;5;124m'\u001b[39m\u001b[38;5;124mstatevector_simulator\u001b[39m\u001b[38;5;124m'\u001b[39m)\n\u001b[0;32m----> 3\u001b[0m job \u001b[38;5;241m=\u001b[39m execute(\u001b[43mcircuit\u001b[49m, backend)\n\u001b[1;32m      4\u001b[0m result \u001b[38;5;241m=\u001b[39m job\u001b[38;5;241m.\u001b[39mresult()\n\u001b[1;32m      5\u001b[0m sv \u001b[38;5;241m=\u001b[39m result\u001b[38;5;241m.\u001b[39mget_statevector()\n",
      "\u001b[0;31mNameError\u001b[0m: name 'circuit' is not defined"
     ]
    }
   ],
   "source": [
    "import numpy as np\n",
    "backend = Aer.get_backend('statevector_simulator')\n",
    "job = execute(circuit, backend)\n",
    "result = job.result()\n",
    "sv = result.get_statevector()\n",
    "print(sv)"
   ]
  },
  {
   "cell_type": "code",
   "execution_count": null,
   "id": "aa16097a",
   "metadata": {},
   "outputs": [],
   "source": []
  }
 ],
 "metadata": {
  "kernelspec": {
   "display_name": "Qiskit (stable)",
   "language": "python",
   "name": "qiskit-stable"
  },
  "language_info": {
   "codemirror_mode": {
    "name": "ipython",
    "version": 3
   },
   "file_extension": ".py",
   "mimetype": "text/x-python",
   "name": "python",
   "nbconvert_exporter": "python",
   "pygments_lexer": "ipython3",
   "version": "3.9.12"
  }
 },
 "nbformat": 4,
 "nbformat_minor": 5
}
