{
 "cells": [
  {
   "cell_type": "code",
   "execution_count": 1,
   "id": "158645a0",
   "metadata": {},
   "outputs": [],
   "source": [
    "from qiskit.quantum_info import Operator\n",
    "from qiskit import *\n",
    "import numpy as np"
   ]
  },
  {
   "cell_type": "code",
   "execution_count": 3,
   "id": "52c66151",
   "metadata": {},
   "outputs": [
    {
     "name": "stderr",
     "output_type": "stream",
     "text": [
      "ibmqfactory.load_account:WARNING:2022-06-17 15:21:53,984: Credentials are already in use. The existing account in the session will be replaced.\n"
     ]
    }
   ],
   "source": [
    "# Loading your IBM Quantum account(s)\n",
    "IBMQ.load_account()\n",
    "provider = IBMQ.get_provider(hub='ibm-q', group='open', project='main')\n",
    "provider.backends()\n",
    "backend = provider.get_backend('ibmq_manila')\n",
    "#plot_gate_map('ibmq_santiago')"
   ]
  },
  {
   "cell_type": "code",
   "execution_count": 4,
   "id": "d3dd36a4",
   "metadata": {},
   "outputs": [
    {
     "data": {
      "image/png": "[encoded data removed]",
      "text/plain": [
       "<Figure size 267.197x325.08 with 1 Axes>"
      ]
     },
     "execution_count": 4,
     "metadata": {},
     "output_type": "execute_result"
    }
   ],
   "source": [
    "n=5\n",
    "qc = QuantumCircuit(n)\n",
    "qc.ccx(0,1,3)\n",
    "qc.ccx(2,3,4)\n",
    "qc.ccx(0,1,3)\n",
    "qc.draw('mpl')"
   ]
  },
  {
   "cell_type": "code",
   "execution_count": 5,
   "id": "c5cd531b",
   "metadata": {},
   "outputs": [],
   "source": [
    "def phase_oracle(n,name = 'Uf'):\n",
    "    qc = QuantumCircuit(n, name=name)\n",
    "    qc.ccx(0,1,3)\n",
    "    qc.ccx(2,3,4)\n",
    "    qc.ccx(0,1,3)\n",
    "    \n",
    "    return qc"
   ]
  },
  {
   "cell_type": "code",
   "execution_count": 6,
   "id": "0b55cb82",
   "metadata": {},
   "outputs": [
    {
     "data": {
      "image/png": "[encoded data removed]",
      "text/plain": [
       "<Figure size 387.597x325.08 with 1 Axes>"
      ]
     },
     "execution_count": 6,
     "metadata": {},
     "output_type": "execute_result"
    }
   ],
   "source": [
    "n=5\n",
    "qc = QuantumCircuit(n)\n",
    "for i in range(n-2):\n",
    "    qc.x(i)\n",
    "qc.ccx(0,1,3)\n",
    "qc.ccx(2,3,4)\n",
    "qc.ccx(0,1,3)\n",
    "for i in range(n-2):\n",
    "    qc.x(i)\n",
    "qc.draw('mpl')"
   ]
  },
  {
   "cell_type": "code",
   "execution_count": 7,
   "id": "3d404412",
   "metadata": {},
   "outputs": [],
   "source": [
    "def diffuser(n, name='V'):\n",
    "    qc = QuantumCircuit(n, name=name)\n",
    "    \n",
    "    for qb in range(n-2): #first layer of Hadamards in diffuser\n",
    "        qc.h(qb)\n",
    "   \n",
    "    for i in range(n-2):\n",
    "        qc.x(i)\n",
    "    qc.ccx(0,1,3)\n",
    "    qc.ccx(2,3,4)\n",
    "    qc.ccx(0,1,3)\n",
    "    for i in range(n-2):\n",
    "        qc.x(i)\n",
    "    \n",
    "    for qb in range(n-2): #second layer of Hadamards in diffuser\n",
    "        qc.h(qb)\n",
    "        \n",
    "    return qc"
   ]
  },
  {
   "cell_type": "code",
   "execution_count": 8,
   "id": "00765ca2",
   "metadata": {},
   "outputs": [
    {
     "data": {
      "image/png": "[encoded data removed]",
      "text/plain": [
       "<Figure size 628.397x385.28 with 1 Axes>"
      ]
     },
     "execution_count": 8,
     "metadata": {},
     "output_type": "execute_result"
    }
   ],
   "source": [
    "n=5\n",
    "gr = QuantumCircuit(n, n-2)\n",
    "nsol=1 #number of solutions\n",
    "\n",
    "r = int(np.floor(np.pi/4*np.sqrt(2**(n-2)/nsol))) # Determine r\n",
    "    \n",
    "gr.h(range(n-2))    # step 1: apply Hadamard gates on all working qubits\n",
    "\n",
    "# put ancilla in state |->\n",
    "gr.x(n-1)\n",
    "gr.h(n-1)\n",
    "    \n",
    "# step 2: apply r rounds of the phase oracle and the diffuser\n",
    "for j in range(r):\n",
    "    gr.append(phase_oracle(n), range(n))\n",
    "    gr.append(diffuser(n), range(n))\n",
    "        \n",
    "gr.measure(range(n-2), range(n-2))    # step 3: measure all qubits\n",
    "    \n",
    "gr.draw('mpl')"
   ]
  },
  {
   "cell_type": "code",
   "execution_count": 9,
   "id": "6093a8b5",
   "metadata": {},
   "outputs": [
    {
     "data": {
      "application/vnd.jupyter.widget-view+json": {
       "model_id": "ce75916920b6452d91bd0be198164781",
       "version_major": 2,
       "version_minor": 0
      },
      "text/plain": [
       "Accordion(children=(VBox(layout=Layout(max_width='710px', min_width='710px')),), layout=Layout(max_height='500…"
      ]
     },
     "metadata": {},
     "output_type": "display_data"
    },
    {
     "data": {
      "application/javascript": [
       "\n",
       "        const isLab = window['Jupyter'] === undefined;\n",
       "        const notebook = document.querySelector( isLab ? 'div.jp-Notebook' : '#site');\n",
       "        const jobWidget = document.querySelector('div.job_widget');\n",
       "        notebook.prepend(jobWidget);\n",
       "        jobWidget.style.zIndex = '999';\n",
       "        jobWidget.style.position = isLab ? 'sticky' : 'fixed';\n",
       "        jobWidget.style.boxShadow = '5px 5px 5px -3px black';\n",
       "        jobWidget.style.opacity = '0.95';\n",
       "        if (isLab) {\n",
       "            jobWidget.style.top = '0';\n",
       "            jobWidget.style.left = '0';\n",
       "        }\n",
       "        "
      ],
      "text/plain": [
       "<IPython.core.display.Javascript object>"
      ]
     },
     "metadata": {},
     "output_type": "display_data"
    }
   ],
   "source": [
    "import qiskit.tools.jupyter\n",
    "%qiskit_job_watcher"
   ]
  },
  {
   "cell_type": "code",
   "execution_count": 10,
   "id": "58b79935",
   "metadata": {},
   "outputs": [],
   "source": [
    "#job = backend.run(transpile(qc, backend=backend), shots=1024)\n",
    "#print(job.job_id())\n",
    "#job_monitor(job)"
   ]
  },
  {
   "cell_type": "code",
   "execution_count": 11,
   "id": "e35d5ee0",
   "metadata": {},
   "outputs": [],
   "source": [
    "#retrieve previously-run job\n",
    "#job = backend.retrieve_job('62a9dea629d69b15b200f292') "
   ]
  },
  {
   "cell_type": "code",
   "execution_count": 12,
   "id": "85bacbe0",
   "metadata": {},
   "outputs": [],
   "source": [
    "#import matplotlib.pyplot as plt\n",
    "#plt.style.use('dark_background')\n",
    "#plot_histogram(job.result().get_counts())"
   ]
  },
  {
   "cell_type": "code",
   "execution_count": 13,
   "id": "eb4ddb1b",
   "metadata": {},
   "outputs": [
    {
     "data": {
      "image/png": "[encoded data removed]",
      "text/plain": [
       "<Figure size 504x360 with 1 Axes>"
      ]
     },
     "execution_count": 13,
     "metadata": {},
     "output_type": "execute_result"
    }
   ],
   "source": [
    "from qiskit import BasicAer, Aer, execute\n",
    "from qiskit.visualization import plot_histogram\n",
    "\n",
    "simulator = Aer.get_backend('qasm_simulator')\n",
    "job = execute(gr, backend=simulator, shots=1000)\n",
    "counts = job.result().get_counts()\n",
    "plot_histogram(counts)"
   ]
  },
  {
   "cell_type": "code",
   "execution_count": null,
   "id": "cca51cb5",
   "metadata": {},
   "outputs": [],
   "source": []
  }
 ],
 "metadata": {
  "kernelspec": {
   "display_name": "Python 3 (ipykernel)",
   "language": "python",
   "name": "python3"
  },
  "language_info": {
   "codemirror_mode": {
    "name": "ipython",
    "version": 3
   },
   "file_extension": ".py",
   "mimetype": "text/x-python",
   "name": "python",
   "nbconvert_exporter": "python",
   "pygments_lexer": "ipython3",
   "version": "3.9.12"
  }
 },
 "nbformat": 4,
 "nbformat_minor": 5
}
